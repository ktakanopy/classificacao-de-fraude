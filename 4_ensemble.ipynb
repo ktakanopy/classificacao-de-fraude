{
 "cells": [
  {
   "cell_type": "markdown",
   "id": "0dff36d4-1dd8-4388-b5f8-04f0f57e3171",
   "metadata": {},
   "source": [
    "# Read-me"
   ]
  },
  {
   "cell_type": "markdown",
   "id": "7797750e-78ac-4dc4-b37f-a21e0d60b14c",
   "metadata": {},
   "source": [
    "- In this notebook, we load models we optimized and we combined than with VotingClassifier to create a ensemble.\n",
    "- We used [2,2,1] weights as RandomForests and LGBM are more robust classifiers.\n",
    "- We also test our ensemble in validation set."
   ]
  },
  {
   "cell_type": "code",
   "execution_count": 1,
   "id": "ed7cf2f0-2a26-4e29-9974-2295e237e213",
   "metadata": {},
   "outputs": [],
   "source": [
    "import pandas as pd\n",
    "import numpy as np\n",
    "import matplotlib.pyplot as plt\n",
    "import seaborn as sns\n",
    "from sklearn.metrics import roc_auc_score, average_precision_score, classification_report\n",
    "from sklearn.model_selection import train_test_split\n",
    "from lib.utils import *\n",
    "import pickle"
   ]
  },
  {
   "cell_type": "markdown",
   "id": "e5cd0508-1e03-4cc9-a11a-fde3279654d5",
   "metadata": {},
   "source": [
    "# Load data"
   ]
  },
  {
   "cell_type": "code",
   "execution_count": 2,
   "id": "12722b47-852b-4416-aa53-a3b93666304e",
   "metadata": {},
   "outputs": [
    {
     "name": "stdout",
     "output_type": "stream",
     "text": [
      "Populating the interactive namespace from numpy and matplotlib\n"
     ]
    }
   ],
   "source": [
    "%matplotlib inline\n",
    "%pylab inline"
   ]
  },
  {
   "cell_type": "code",
   "execution_count": 3,
   "id": "a098e8df-b90c-401a-a481-22732171d87b",
   "metadata": {},
   "outputs": [],
   "source": [
    "X_train = np.load('data/input/X_train.npy')\n",
    "y_train = np.load('data/input/y_train.npy')\n",
    "X_test = np.load('data/input/X_test.npy')\n",
    "y_test = np.load('data/input/y_test.npy')"
   ]
  },
  {
   "cell_type": "markdown",
   "id": "91256b3e-b492-4e7e-90b9-aa7be4035d9f",
   "metadata": {},
   "source": [
    "# Test Optimized Models"
   ]
  },
  {
   "cell_type": "code",
   "execution_count": 4,
   "id": "c31dc49f-a437-4e49-9685-fe790fb99bdf",
   "metadata": {},
   "outputs": [],
   "source": [
    "X_train, X_valid, y_train, y_valid = train_test_split(X_train, y_train, test_size=0.10, random_state=42)"
   ]
  },
  {
   "cell_type": "markdown",
   "id": "f9d63e7b-ee35-4e24-97eb-204a7cf08f7c",
   "metadata": {},
   "source": [
    "## LGBM"
   ]
  },
  {
   "cell_type": "code",
   "execution_count": 5,
   "id": "4ab1332b-7c92-4cc5-b9eb-870972911bbb",
   "metadata": {},
   "outputs": [],
   "source": [
    "params = pickle.load(open('data/params/lgbm.pickle','rb'))\n",
    "lr = params[0]\n",
    "max_depth = params[1]\n",
    "min_child_samples = params[2]\n",
    "subsample = params[3]\n",
    "colsample_bytree = params[4]\n",
    "n_estimators = params[5]\n",
    "    "
   ]
  },
  {
   "cell_type": "code",
   "execution_count": 6,
   "id": "86bb9da7-133b-4283-a262-3734f8c7a166",
   "metadata": {},
   "outputs": [],
   "source": [
    "from lightgbm import LGBMClassifier\n",
    "lgbm = LGBMClassifier(learning_rate=lr, num_leaves=2 ** max_depth, max_depth=max_depth, \n",
    "                         min_child_samples=min_child_samples, subsample=subsample,\n",
    "                         colsample_bytree=colsample_bytree, bagging_freq=1,n_estimators=n_estimators, random_state=0, \n",
    "                         class_weight=\"balanced\", n_jobs=-1)"
   ]
  },
  {
   "cell_type": "code",
   "execution_count": 10,
   "id": "47c1ae56-85ed-4b01-b02a-20b0f6c5d881",
   "metadata": {},
   "outputs": [
    {
     "name": "stdout",
     "output_type": "stream",
     "text": [
      "[LightGBM] [Warning] bagging_freq is set=1, subsample_freq=0 will be ignored. Current value: bagging_freq=1\n"
     ]
    },
    {
     "data": {
      "text/plain": [
       "LGBMClassifier(bagging_freq=1, class_weight='balanced',\n",
       "               colsample_bytree=0.944578432980404,\n",
       "               learning_rate=0.01909842850485622, max_depth=3,\n",
       "               min_child_samples=12, n_estimators=528, num_leaves=8,\n",
       "               random_state=0, subsample=0.6728679300083596)"
      ]
     },
     "execution_count": 10,
     "metadata": {},
     "output_type": "execute_result"
    }
   ],
   "source": [
    "lgbm.fit(X_train,y_train)"
   ]
  },
  {
   "cell_type": "code",
   "execution_count": 11,
   "id": "2f5170ec-00c5-4de5-be41-6ba184d33072",
   "metadata": {},
   "outputs": [
    {
     "name": "stdout",
     "output_type": "stream",
     "text": [
      "Classification report:\n",
      "              precision    recall  f1-score   support\n",
      "\n",
      "           0     0.9825    0.9022    0.9406       685\n",
      "           1     0.6278    0.9113    0.7434       124\n",
      "\n",
      "    accuracy                         0.9036       809\n",
      "   macro avg     0.8051    0.9067    0.8420       809\n",
      "weighted avg     0.9281    0.9036    0.9104       809\n",
      "\n",
      "ROC AUC Score:\n",
      "\t 0.97\n",
      "Average precision-recall score:\n",
      "\t 0.5857\n"
     ]
    }
   ],
   "source": [
    "print_results_model(y_valid, lgbm, X_valid)"
   ]
  },
  {
   "cell_type": "code",
   "execution_count": 12,
   "id": "dbd4d92d-0514-4473-9b29-36279ba2c191",
   "metadata": {},
   "outputs": [
    {
     "data": {
      "image/png": "[encoded data removed]",
      "text/plain": [
       "<Figure size 576x432 with 2 Axes>"
      ]
     },
     "metadata": {
      "needs_background": "light"
     },
     "output_type": "display_data"
    }
   ],
   "source": [
    "plot_confusion_matrix_model(y_valid, lgbm, X_valid)"
   ]
  },
  {
   "cell_type": "markdown",
   "id": "7a5e1493-8ae3-4425-a808-6ef5329edae5",
   "metadata": {},
   "source": [
    "## RandomForestClassifier"
   ]
  },
  {
   "cell_type": "code",
   "execution_count": 13,
   "id": "35099c99-8195-4be7-902c-3a9332559b13",
   "metadata": {},
   "outputs": [],
   "source": [
    "from sklearn.ensemble import RandomForestClassifier\n",
    "\n",
    "params = pickle.load(open('data/params/rf.pickle','rb'))\n",
    "\n",
    "bootstrap = params[0]\n",
    "max_depth = params[1]\n",
    "max_features = params[2]\n",
    "min_samples_leaf = params[3]\n",
    "min_samples_split = params[4]\n",
    "n_estimators = params[5]\n",
    "\n",
    "rf = RandomForestClassifier(bootstrap=bootstrap, max_depth=max_depth, \\\n",
    " max_features=max_features, min_samples_leaf=min_samples_leaf, \\\n",
    "    min_samples_split=min_samples_split, n_estimators=n_estimators,    \\\n",
    "                             random_state=0, \n",
    "                     class_weight=\"balanced\", n_jobs=-1)"
   ]
  },
  {
   "cell_type": "code",
   "execution_count": 14,
   "id": "440794b3-d253-4dde-aa14-07bc2856bd37",
   "metadata": {},
   "outputs": [
    {
     "data": {
      "text/plain": [
       "RandomForestClassifier(class_weight='balanced', max_depth=20,\n",
       "                       max_features='sqrt', min_samples_leaf=4,\n",
       "                       n_estimators=807, n_jobs=-1, random_state=0)"
      ]
     },
     "execution_count": 14,
     "metadata": {},
     "output_type": "execute_result"
    }
   ],
   "source": [
    "rf.fit(X_train,y_train)"
   ]
  },
  {
   "cell_type": "code",
   "execution_count": 16,
   "id": "f3a071d1-9ff3-48a9-bfc1-6a94f05bade7",
   "metadata": {},
   "outputs": [
    {
     "name": "stdout",
     "output_type": "stream",
     "text": [
      "Classification report:\n",
      "              precision    recall  f1-score   support\n",
      "\n",
      "           0     0.9799    0.9241    0.9512       685\n",
      "           1     0.6810    0.8952    0.7735       124\n",
      "\n",
      "    accuracy                         0.9197       809\n",
      "   macro avg     0.8304    0.9096    0.8623       809\n",
      "weighted avg     0.9341    0.9197    0.9239       809\n",
      "\n",
      "ROC AUC Score:\n",
      "\t 0.9683\n",
      "Average precision-recall score:\n",
      "\t 0.6257\n"
     ]
    }
   ],
   "source": [
    "print_results_model(y_valid, rf, X_valid)"
   ]
  },
  {
   "cell_type": "code",
   "execution_count": 17,
   "id": "2d947c84-fbc3-4945-9a29-5683a1b39993",
   "metadata": {},
   "outputs": [
    {
     "data": {
      "image/png": "[encoded data removed]",
      "text/plain": [
       "<Figure size 576x432 with 2 Axes>"
      ]
     },
     "metadata": {
      "needs_background": "light"
     },
     "output_type": "display_data"
    }
   ],
   "source": [
    "plot_confusion_matrix_model(y_valid, rf, X_valid)"
   ]
  },
  {
   "cell_type": "markdown",
   "id": "819a022b-df25-4db4-97e8-67bd6ac7d607",
   "metadata": {},
   "source": [
    "## LogisticRegression"
   ]
  },
  {
   "cell_type": "code",
   "execution_count": 18,
   "id": "10a40ce7-f33c-4dc5-8daa-f2f117e5068f",
   "metadata": {},
   "outputs": [],
   "source": [
    "from sklearn.linear_model import LogisticRegression\n",
    "\n",
    "params = pickle.load(open('data/params/lr.pickle','rb'))\n",
    "\n",
    "C = params[0]\n",
    "solver = params[1]\n",
    "\n",
    "lr = LogisticRegression(C=C, solver=solver,\\\n",
    "                         class_weight=\"balanced\", n_jobs=-1)"
   ]
  },
  {
   "cell_type": "code",
   "execution_count": 19,
   "id": "c87032d8-530a-458e-9c34-ed6dee4d8466",
   "metadata": {},
   "outputs": [
    {
     "data": {
      "text/plain": [
       "LogisticRegression(C=10, class_weight='balanced', n_jobs=-1, solver='newton-cg')"
      ]
     },
     "execution_count": 19,
     "metadata": {},
     "output_type": "execute_result"
    }
   ],
   "source": [
    "lr.fit(X_train, y_train)"
   ]
  },
  {
   "cell_type": "code",
   "execution_count": 20,
   "id": "2e074363-5247-409f-9ad9-e6c8eef17520",
   "metadata": {},
   "outputs": [
    {
     "name": "stdout",
     "output_type": "stream",
     "text": [
      "Classification report:\n",
      "              precision    recall  f1-score   support\n",
      "\n",
      "           0     0.9845    0.8321    0.9019       685\n",
      "           1     0.5000    0.9274    0.6497       124\n",
      "\n",
      "    accuracy                         0.8467       809\n",
      "   macro avg     0.7422    0.8798    0.7758       809\n",
      "weighted avg     0.9102    0.8467    0.8632       809\n",
      "\n",
      "ROC AUC Score:\n",
      "\t 0.9377\n",
      "Average precision-recall score:\n",
      "\t 0.4748\n"
     ]
    }
   ],
   "source": [
    "print_results_model(y_valid, lr, X_valid)"
   ]
  },
  {
   "cell_type": "code",
   "execution_count": 23,
   "id": "98723feb-973f-41df-a78e-e4627443c5f5",
   "metadata": {},
   "outputs": [
    {
     "data": {
      "image/png": "[encoded data removed]",
      "text/plain": [
       "<Figure size 576x432 with 2 Axes>"
      ]
     },
     "metadata": {
      "needs_background": "light"
     },
     "output_type": "display_data"
    }
   ],
   "source": [
    "plot_confusion_matrix_model(y_valid, lr, X_valid)"
   ]
  },
  {
   "cell_type": "code",
   "execution_count": 24,
   "id": "7f4f98a5-0a33-46ca-90cf-ba69e27b8391",
   "metadata": {},
   "outputs": [],
   "source": [
    "from sklearn.ensemble import VotingClassifier\n",
    "\n",
    "models = list()\n",
    "models.append(('lgbm', lgbm))\n",
    "models.append(('rf', rf))\n",
    "models.append(('lr', lr))\n",
    "# define the hard voting ensemble\n",
    "ensemble = VotingClassifier(estimators=models, voting='soft',weights=[2,2,1])\n",
    "# fit the model on all available data"
   ]
  },
  {
   "cell_type": "code",
   "execution_count": 25,
   "id": "92984b3c-65e7-4712-9b2d-a69aedb576e8",
   "metadata": {},
   "outputs": [
    {
     "data": {
      "text/plain": [
       "['./data/models/ensemble.sav']"
      ]
     },
     "execution_count": 25,
     "metadata": {},
     "output_type": "execute_result"
    }
   ],
   "source": [
    "import joblib\n",
    "\n",
    "joblib.dump(ensemble, \"./data/models/ensemble.sav\")"
   ]
  },
  {
   "cell_type": "code",
   "execution_count": 26,
   "id": "845c5023-48c1-403b-a8e0-e72d7a8c3b1f",
   "metadata": {
    "scrolled": true,
    "tags": []
   },
   "outputs": [
    {
     "name": "stdout",
     "output_type": "stream",
     "text": [
      "[LightGBM] [Warning] bagging_freq is set=1, subsample_freq=0 will be ignored. Current value: bagging_freq=1\n"
     ]
    },
    {
     "data": {
      "text/plain": [
       "VotingClassifier(estimators=[('lgbm',\n",
       "                              LGBMClassifier(bagging_freq=1,\n",
       "                                             class_weight='balanced',\n",
       "                                             colsample_bytree=0.944578432980404,\n",
       "                                             learning_rate=0.01909842850485622,\n",
       "                                             max_depth=3, min_child_samples=12,\n",
       "                                             n_estimators=528, num_leaves=8,\n",
       "                                             random_state=0,\n",
       "                                             subsample=0.6728679300083596)),\n",
       "                             ('rf',\n",
       "                              RandomForestClassifier(class_weight='balanced',\n",
       "                                                     max_depth=20,\n",
       "                                                     max_features='sqrt',\n",
       "                                                     min_samples_leaf=4,\n",
       "                                                     n_estimators=807,\n",
       "                                                     n_jobs=-1,\n",
       "                                                     random_state=0)),\n",
       "                             ('lr',\n",
       "                              LogisticRegression(C=10, class_weight='balanced',\n",
       "                                                 n_jobs=-1,\n",
       "                                                 solver='newton-cg'))],\n",
       "                 voting='soft', weights=[2, 2, 1])"
      ]
     },
     "execution_count": 26,
     "metadata": {},
     "output_type": "execute_result"
    }
   ],
   "source": [
    "ensemble.fit(X_train, y_train)"
   ]
  },
  {
   "cell_type": "code",
   "execution_count": 28,
   "id": "309ee08c-1084-45ab-8527-4a084d51562c",
   "metadata": {},
   "outputs": [
    {
     "name": "stdout",
     "output_type": "stream",
     "text": [
      "Classification report:\n",
      "              precision    recall  f1-score   support\n",
      "\n",
      "           0     0.9827    0.9124    0.9463       685\n",
      "           1     0.6532    0.9113    0.7609       124\n",
      "\n",
      "    accuracy                         0.9122       809\n",
      "   macro avg     0.8179    0.9118    0.8536       809\n",
      "weighted avg     0.9322    0.9122    0.9178       809\n",
      "\n",
      "ROC AUC Score:\n",
      "\t 0.9668\n",
      "Average precision-recall score:\n",
      "\t 0.6088\n"
     ]
    }
   ],
   "source": [
    "print_results_model(y_valid, ensemble, X_valid)"
   ]
  },
  {
   "cell_type": "code",
   "execution_count": 30,
   "id": "0861bf6d-a95a-443b-b336-f018834b3e3c",
   "metadata": {},
   "outputs": [
    {
     "data": {
      "image/png": "[encoded data removed]",
      "text/plain": [
       "<Figure size 576x432 with 2 Axes>"
      ]
     },
     "metadata": {
      "needs_background": "light"
     },
     "output_type": "display_data"
    }
   ],
   "source": [
    "plot_confusion_matrix_model(y_valid, ensemble, X_valid)"
   ]
  },
  {
   "cell_type": "code",
   "execution_count": 31,
   "id": "2413e0e5-d4f4-4caf-b27b-753c70087f81",
   "metadata": {},
   "outputs": [],
   "source": [
    "y_pred = ensemble.predict_proba(X_test)[:,1]"
   ]
  },
  {
   "cell_type": "code",
   "execution_count": 32,
   "id": "1a3e8d2f-33af-44ab-88f9-8bbf9229ad65",
   "metadata": {},
   "outputs": [],
   "source": [
    "np.save(\"data/input/y_pred_ensemble_no_treat.npy\",y_pred)"
   ]
  },
  {
   "cell_type": "code",
   "execution_count": null,
   "id": "db61d654-ca42-43af-aa46-3a8fe5de2970",
   "metadata": {},
   "outputs": [],
   "source": []
  },
  {
   "cell_type": "code",
   "execution_count": null,
   "id": "14565446-79e5-4844-bf29-1231b955e98e",
   "metadata": {},
   "outputs": [],
   "source": []
  }
 ],
 "metadata": {
  "kernelspec": {
   "display_name": "Python 3 (ipykernel)",
   "language": "python",
   "name": "python3"
  },
  "language_info": {
   "codemirror_mode": {
    "name": "ipython",
    "version": 3
   },
   "file_extension": ".py",
   "mimetype": "text/x-python",
   "name": "python",
   "nbconvert_exporter": "python",
   "pygments_lexer": "ipython3",
   "version": "3.8.5"
  },
  "toc-showcode": true
 },
 "nbformat": 4,
 "nbformat_minor": 5
}
