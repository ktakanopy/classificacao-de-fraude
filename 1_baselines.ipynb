{
 "cells": [
  {
   "cell_type": "markdown",
   "id": "6c2a4c93-cce0-4a69-bb7f-9b749a1c43b6",
   "metadata": {},
   "source": [
    "# Read-me"
   ]
  },
  {
   "cell_type": "markdown",
   "id": "40175c6b-2ecd-4a98-b583-996344553a2f",
   "metadata": {},
   "source": [
    "- In the last notebook we observe we can classify data as a fraud. \n",
    "- In this notebook, we are creating dummy classifiers to use as baselines to compare with our morel.\n",
    "- We will apply classical models as decision tree, random forests, logistic regressor. \n",
    "- We also will build a rule based model as in fraud detection is common to create.\n",
    "- We will apply the baselines in raw features, without feature engineering.\n",
    "- We train the models and after, we will save the predictions for the test set for an analysis in another notebook."
   ]
  },
  {
   "cell_type": "code",
   "execution_count": 70,
   "id": "ed7cf2f0-2a26-4e29-9974-2295e237e213",
   "metadata": {},
   "outputs": [],
   "source": [
    "import pandas as pd\n",
    "import numpy as np\n",
    "import matplotlib.pyplot as plt\n",
    "import seaborn as sns\n",
    "from sklearn.metrics import roc_auc_score, average_precision_score, classification_report,confusion_matrix\n",
    "from lib.utils import *\n",
    "from sklearn.model_selection import train_test_split"
   ]
  },
  {
   "cell_type": "markdown",
   "id": "e5cd0508-1e03-4cc9-a11a-fde3279654d5",
   "metadata": {},
   "source": [
    "# Load data"
   ]
  },
  {
   "cell_type": "code",
   "execution_count": 71,
   "id": "12722b47-852b-4416-aa53-a3b93666304e",
   "metadata": {},
   "outputs": [
    {
     "name": "stdout",
     "output_type": "stream",
     "text": [
      "Populating the interactive namespace from numpy and matplotlib\n"
     ]
    },
    {
     "name": "stderr",
     "output_type": "stream",
     "text": [
      "/home/kevintakano/miniconda3/lib/python3.8/site-packages/IPython/core/magics/pylab.py:159: UserWarning: pylab import has clobbered these variables: ['clf', 'log']\n",
      "`%matplotlib` prevents importing * from pylab and numpy\n",
      "  warn(\"pylab import has clobbered these variables: %s\"  % clobbered +\n"
     ]
    }
   ],
   "source": [
    "%matplotlib inline\n",
    "%pylab inline"
   ]
  },
  {
   "cell_type": "code",
   "execution_count": 72,
   "id": "a098e8df-b90c-401a-a481-22732171d87b",
   "metadata": {},
   "outputs": [
    {
     "data": {
      "text/html": [
       "<div>\n",
       "<style scoped>\n",
       "    .dataframe tbody tr th:only-of-type {\n",
       "        vertical-align: middle;\n",
       "    }\n",
       "\n",
       "    .dataframe tbody tr th {\n",
       "        vertical-align: top;\n",
       "    }\n",
       "\n",
       "    .dataframe thead th {\n",
       "        text-align: right;\n",
       "    }\n",
       "</style>\n",
       "<table border=\"1\" class=\"dataframe\">\n",
       "  <thead>\n",
       "    <tr style=\"text-align: right;\">\n",
       "      <th></th>\n",
       "      <th>mes_ref</th>\n",
       "      <th>company_id</th>\n",
       "      <th>tipo_doc</th>\n",
       "      <th>max_valor_boleto</th>\n",
       "      <th>avg_valor_boleto</th>\n",
       "      <th>total_valor_boleto</th>\n",
       "      <th>valor_boleto_stdv</th>\n",
       "      <th>qtd_boleto_pago</th>\n",
       "      <th>qtd_boleto_total</th>\n",
       "      <th>qtd_boleto_estorno</th>\n",
       "      <th>qnt_cc_total</th>\n",
       "      <th>tempo_credenciamento</th>\n",
       "      <th>conta_bnk_repetida</th>\n",
       "      <th>fraude</th>\n",
       "    </tr>\n",
       "  </thead>\n",
       "  <tbody>\n",
       "    <tr>\n",
       "      <th>0</th>\n",
       "      <td>01/03/2020</td>\n",
       "      <td>5e74d202d1498c5bdf8aafe3</td>\n",
       "      <td>cnpj</td>\n",
       "      <td>6000</td>\n",
       "      <td>4884,61</td>\n",
       "      <td>63500</td>\n",
       "      <td>2122,83</td>\n",
       "      <td>10</td>\n",
       "      <td>13</td>\n",
       "      <td>0</td>\n",
       "      <td>35</td>\n",
       "      <td>11</td>\n",
       "      <td>0</td>\n",
       "      <td>0</td>\n",
       "    </tr>\n",
       "    <tr>\n",
       "      <th>1</th>\n",
       "      <td>01/03/2020</td>\n",
       "      <td>5e78dafeb5ac867c7e85eb5e</td>\n",
       "      <td>cnpj</td>\n",
       "      <td>1800</td>\n",
       "      <td>1800</td>\n",
       "      <td>3600</td>\n",
       "      <td>0</td>\n",
       "      <td>0</td>\n",
       "      <td>2</td>\n",
       "      <td>0</td>\n",
       "      <td>0</td>\n",
       "      <td>11</td>\n",
       "      <td>0</td>\n",
       "      <td>0</td>\n",
       "    </tr>\n",
       "    <tr>\n",
       "      <th>2</th>\n",
       "      <td>01/03/2020</td>\n",
       "      <td>5e73e21359193c2f123c1076</td>\n",
       "      <td>cnpj</td>\n",
       "      <td>159,9</td>\n",
       "      <td>104,9</td>\n",
       "      <td>209,8</td>\n",
       "      <td>77,78</td>\n",
       "      <td>0</td>\n",
       "      <td>2</td>\n",
       "      <td>0</td>\n",
       "      <td>14</td>\n",
       "      <td>11</td>\n",
       "      <td>0</td>\n",
       "      <td>0</td>\n",
       "    </tr>\n",
       "    <tr>\n",
       "      <th>3</th>\n",
       "      <td>01/04/2020</td>\n",
       "      <td>5e7262c49d55ea5dbea59d57</td>\n",
       "      <td>cnpj</td>\n",
       "      <td>600</td>\n",
       "      <td>600</td>\n",
       "      <td>1800</td>\n",
       "      <td>0</td>\n",
       "      <td>0</td>\n",
       "      <td>3</td>\n",
       "      <td>0</td>\n",
       "      <td>18</td>\n",
       "      <td>11</td>\n",
       "      <td>0</td>\n",
       "      <td>0</td>\n",
       "    </tr>\n",
       "    <tr>\n",
       "      <th>4</th>\n",
       "      <td>01/04/2020</td>\n",
       "      <td>5e610d9f66945c0f82dd357f</td>\n",
       "      <td>cnpj</td>\n",
       "      <td>2941</td>\n",
       "      <td>1764,6</td>\n",
       "      <td>8823</td>\n",
       "      <td>657,63</td>\n",
       "      <td>2</td>\n",
       "      <td>5</td>\n",
       "      <td>0</td>\n",
       "      <td>65</td>\n",
       "      <td>12</td>\n",
       "      <td>0</td>\n",
       "      <td>0</td>\n",
       "    </tr>\n",
       "  </tbody>\n",
       "</table>\n",
       "</div>"
      ],
      "text/plain": [
       "      mes_ref                company_id tipo_doc max_valor_boleto  \\\n",
       "0  01/03/2020  5e74d202d1498c5bdf8aafe3     cnpj             6000   \n",
       "1  01/03/2020  5e78dafeb5ac867c7e85eb5e     cnpj             1800   \n",
       "2  01/03/2020  5e73e21359193c2f123c1076     cnpj            159,9   \n",
       "3  01/04/2020  5e7262c49d55ea5dbea59d57     cnpj              600   \n",
       "4  01/04/2020  5e610d9f66945c0f82dd357f     cnpj             2941   \n",
       "\n",
       "  avg_valor_boleto total_valor_boleto valor_boleto_stdv  qtd_boleto_pago  \\\n",
       "0          4884,61              63500           2122,83               10   \n",
       "1             1800               3600                 0                0   \n",
       "2            104,9              209,8             77,78                0   \n",
       "3              600               1800                 0                0   \n",
       "4           1764,6               8823            657,63                2   \n",
       "\n",
       "   qtd_boleto_total  qtd_boleto_estorno  qnt_cc_total  tempo_credenciamento  \\\n",
       "0                13                   0            35                    11   \n",
       "1                 2                   0             0                    11   \n",
       "2                 2                   0            14                    11   \n",
       "3                 3                   0            18                    11   \n",
       "4                 5                   0            65                    12   \n",
       "\n",
       "   conta_bnk_repetida  fraude  \n",
       "0                   0       0  \n",
       "1                   0       0  \n",
       "2                   0       0  \n",
       "3                   0       0  \n",
       "4                   0       0  "
      ]
     },
     "execution_count": 72,
     "metadata": {},
     "output_type": "execute_result"
    }
   ],
   "source": [
    "df = pd.read_csv('data/data.csv',sep=';')\n",
    "df.head()"
   ]
  },
  {
   "cell_type": "markdown",
   "id": "df648daa-8728-4bf3-8a47-780f32cfab3d",
   "metadata": {},
   "source": [
    "# Sample input"
   ]
  },
  {
   "cell_type": "code",
   "execution_count": 73,
   "id": "b7754df8-04a7-4e40-9828-52a01d5164d4",
   "metadata": {},
   "outputs": [],
   "source": [
    "feats = list(df.columns[2:-1])\n",
    "# feats"
   ]
  },
  {
   "cell_type": "code",
   "execution_count": 74,
   "id": "14320c22-8b8f-4d0c-af60-ab6ed99cde57",
   "metadata": {},
   "outputs": [],
   "source": [
    "df['tipo_doc'] = df.tipo_doc.astype('category').cat.codes"
   ]
  },
  {
   "cell_type": "code",
   "execution_count": 75,
   "id": "cce0d5b8-6c7a-402e-a18c-24cd3d5a3997",
   "metadata": {},
   "outputs": [],
   "source": [
    "\n",
    "df = change_portuguese_to_english_cols(df)"
   ]
  },
  {
   "cell_type": "code",
   "execution_count": 76,
   "id": "d1c615f8-213e-4db3-8d2b-ab34a47b9c39",
   "metadata": {},
   "outputs": [],
   "source": [
    "X = df[feats].values\n",
    "y = df.fraude.values"
   ]
  },
  {
   "cell_type": "code",
   "execution_count": 77,
   "id": "0fabd4ee-b046-49b1-a4fa-d99087f5c18c",
   "metadata": {},
   "outputs": [],
   "source": [
    "companys = df.company_id\n",
    "company_train, company_test = train_test_split(companys, test_size=0.30, random_state=42)"
   ]
  },
  {
   "cell_type": "code",
   "execution_count": 78,
   "id": "7e8dd7ae-0b3e-4314-a728-d996e8e152f2",
   "metadata": {},
   "outputs": [],
   "source": [
    "X_train = df[df.company_id.isin(company_train)][feats]\n",
    "y_train = df[df.company_id.isin(company_train)]['fraude']"
   ]
  },
  {
   "cell_type": "code",
   "execution_count": 79,
   "id": "fd9265e9-9fd7-4e84-9b79-6b3d0bb7ef98",
   "metadata": {},
   "outputs": [],
   "source": [
    "X_test = df[df.company_id.isin(company_test)][feats]\n",
    "y_test = df[df.company_id.isin(company_test)]['fraude']"
   ]
  },
  {
   "cell_type": "code",
   "execution_count": 80,
   "id": "09be6d20-efed-48b1-becf-066652a8f8c0",
   "metadata": {},
   "outputs": [],
   "source": [
    "np.save(\"data/input/company_train.npy\",company_train)\n",
    "np.save(\"data/input/company_test.npy\",company_test)\n",
    "np.save(\"data/input/feats.npy\",feats)"
   ]
  },
  {
   "cell_type": "code",
   "execution_count": 81,
   "id": "d3ea804d-d956-417f-8774-9a2addb3df41",
   "metadata": {},
   "outputs": [],
   "source": [
    "X_train, X_valid, y_train, y_valid = train_test_split(X_train, y_train, test_size=0.10, random_state=42)"
   ]
  },
  {
   "cell_type": "markdown",
   "id": "d982ea7d-3cb0-4b5d-92e2-c1a787e06dec",
   "metadata": {},
   "source": [
    "# Baselines"
   ]
  },
  {
   "cell_type": "markdown",
   "id": "9a005ec3-c4af-4219-84ac-2db958305e97",
   "metadata": {},
   "source": [
    "- Below, we train and evaluate in valid dataset.\n",
    "- We focused in observing recall and precision for the fraud class (when class=1).\n",
    "- We also observe ROCAUC and average-precision because it's good for imbalanced datasets.\n",
    "- For the rule based models, we use the value 6 as we in the graphs from EDA shows reasonable to separate the class."
   ]
  },
  {
   "cell_type": "markdown",
   "id": "0566f42b-f32a-4eb2-bf2f-de3082dcd7b0",
   "metadata": {
    "tags": []
   },
   "source": [
    "##  DecisionTree"
   ]
  },
  {
   "cell_type": "code",
   "execution_count": 82,
   "id": "dd21123b-6a94-4767-a981-c99aa568f7a6",
   "metadata": {},
   "outputs": [],
   "source": [
    "from sklearn.tree import DecisionTreeClassifier\n",
    "from sklearn.model_selection import cross_val_score\n",
    "\n",
    "\n",
    "clf = DecisionTreeClassifier(random_state=0)"
   ]
  },
  {
   "cell_type": "code",
   "execution_count": 83,
   "id": "67a42b36-87c3-4e56-9749-29ba1afc7381",
   "metadata": {},
   "outputs": [
    {
     "data": {
      "text/plain": [
       "DecisionTreeClassifier(random_state=0)"
      ]
     },
     "execution_count": 83,
     "metadata": {},
     "output_type": "execute_result"
    }
   ],
   "source": [
    "clf.fit(X_train, y_train)"
   ]
  },
  {
   "cell_type": "code",
   "execution_count": 84,
   "id": "9ce28b4a-b651-496d-baf7-9317d745b594",
   "metadata": {},
   "outputs": [
    {
     "name": "stdout",
     "output_type": "stream",
     "text": [
      "Classification report:\n",
      "              precision    recall  f1-score   support\n",
      "\n",
      "           0     0.9416    0.9416    0.9416       685\n",
      "           1     0.6774    0.6774    0.6774       124\n",
      "\n",
      "    accuracy                         0.9011       809\n",
      "   macro avg     0.8095    0.8095    0.8095       809\n",
      "weighted avg     0.9011    0.9011    0.9011       809\n",
      "\n",
      "ROC AUC Score:\n",
      "\t 0.8095\n",
      "Average precision-recall score:\n",
      "\t 0.5083\n"
     ]
    }
   ],
   "source": [
    "print_results_model(y_valid, clf, X_valid)"
   ]
  },
  {
   "cell_type": "code",
   "execution_count": 85,
   "id": "d072fc23-30ef-4c4c-9256-8df388a73e43",
   "metadata": {},
   "outputs": [
    {
     "data": {
      "image/png": "[encoded data removed]",
      "text/plain": [
       "<Figure size 576x432 with 2 Axes>"
      ]
     },
     "metadata": {
      "needs_background": "light"
     },
     "output_type": "display_data"
    }
   ],
   "source": [
    "plot_confusion_matrix_model(y_valid, clf, X_valid)"
   ]
  },
  {
   "cell_type": "code",
   "execution_count": 86,
   "id": "acfbc9e6-c30f-4083-9ef7-751dee0c96eb",
   "metadata": {},
   "outputs": [],
   "source": [
    "y_pred = clf.predict_proba(X_test)[:,1]"
   ]
  },
  {
   "cell_type": "code",
   "execution_count": 87,
   "id": "7d717786-a78e-4ac2-93e6-6c9a9dcc8b2d",
   "metadata": {},
   "outputs": [],
   "source": [
    "np.save(\"data/input/y_pred_decision_tree.npy\",y_pred)"
   ]
  },
  {
   "cell_type": "markdown",
   "id": "ea8c14c5-1519-4eff-b3d6-ef0eaa3b1db0",
   "metadata": {
    "tags": []
   },
   "source": [
    "##  RandomForest"
   ]
  },
  {
   "cell_type": "code",
   "execution_count": 88,
   "id": "37f93942-4d88-4a37-adf3-441c81167aa7",
   "metadata": {},
   "outputs": [],
   "source": [
    "from sklearn.ensemble import RandomForestClassifier\n",
    "from sklearn.model_selection import cross_val_score\n",
    "\n",
    "\n",
    "clf = RandomForestClassifier(random_state=0)"
   ]
  },
  {
   "cell_type": "code",
   "execution_count": 89,
   "id": "e0aa14b2-4e4d-42a1-953f-09b3232d18e1",
   "metadata": {},
   "outputs": [
    {
     "data": {
      "text/plain": [
       "RandomForestClassifier(random_state=0)"
      ]
     },
     "execution_count": 89,
     "metadata": {},
     "output_type": "execute_result"
    }
   ],
   "source": [
    "clf.fit(X_train, y_train)"
   ]
  },
  {
   "cell_type": "code",
   "execution_count": 90,
   "id": "c763012f-a04b-4869-bc68-d39b5407ca8c",
   "metadata": {},
   "outputs": [
    {
     "name": "stdout",
     "output_type": "stream",
     "text": [
      "Classification report:\n",
      "              precision    recall  f1-score   support\n",
      "\n",
      "           0     0.9520    0.9547    0.9534       685\n",
      "           1     0.7459    0.7339    0.7398       124\n",
      "\n",
      "    accuracy                         0.9209       809\n",
      "   macro avg     0.8489    0.8443    0.8466       809\n",
      "weighted avg     0.9204    0.9209    0.9206       809\n",
      "\n",
      "ROC AUC Score:\n",
      "\t 0.9599\n",
      "Average precision-recall score:\n",
      "\t 0.5882\n"
     ]
    }
   ],
   "source": [
    "print_results_model(y_valid, clf, X_valid)"
   ]
  },
  {
   "cell_type": "code",
   "execution_count": 91,
   "id": "658da87d-cf81-4492-94a2-bb1cd4c20e39",
   "metadata": {},
   "outputs": [
    {
     "data": {
      "image/png": "[encoded data removed]",
      "text/plain": [
       "<Figure size 576x432 with 2 Axes>"
      ]
     },
     "metadata": {
      "needs_background": "light"
     },
     "output_type": "display_data"
    }
   ],
   "source": [
    "plot_confusion_matrix_model(y_valid, clf, X_valid)"
   ]
  },
  {
   "cell_type": "code",
   "execution_count": 92,
   "id": "cc1513dd-1b10-403a-bd5f-c61f94f5d854",
   "metadata": {},
   "outputs": [],
   "source": [
    "y_pred = clf.predict_proba(X_test)[:,1]"
   ]
  },
  {
   "cell_type": "code",
   "execution_count": 93,
   "id": "247cb5ac-3307-4556-800b-713b18b8d4d5",
   "metadata": {},
   "outputs": [],
   "source": [
    "np.save(\"data/input/y_pred_random_forest.npy\",y_pred)"
   ]
  },
  {
   "cell_type": "markdown",
   "id": "4dd9569b-a816-46a0-9e65-088fcb2134ec",
   "metadata": {},
   "source": [
    "## Logistic Regressor"
   ]
  },
  {
   "cell_type": "code",
   "execution_count": 94,
   "id": "d6e49be3-aab0-4e87-808c-1ec707b5c75a",
   "metadata": {},
   "outputs": [
    {
     "name": "stderr",
     "output_type": "stream",
     "text": [
      "/home/kevintakano/miniconda3/lib/python3.8/site-packages/sklearn/linear_model/_logistic.py:763: ConvergenceWarning: lbfgs failed to converge (status=1):\n",
      "STOP: TOTAL NO. of ITERATIONS REACHED LIMIT.\n",
      "\n",
      "Increase the number of iterations (max_iter) or scale the data as shown in:\n",
      "    https://scikit-learn.org/stable/modules/preprocessing.html\n",
      "Please also refer to the documentation for alternative solver options:\n",
      "    https://scikit-learn.org/stable/modules/linear_model.html#logistic-regression\n",
      "  n_iter_i = _check_optimize_result(\n"
     ]
    }
   ],
   "source": [
    "from sklearn.linear_model import LogisticRegression\n",
    "\n",
    "clf = LogisticRegression(random_state=0).fit(X_train, y_train)"
   ]
  },
  {
   "cell_type": "code",
   "execution_count": 95,
   "id": "953de538-ae70-41d4-8645-382aec981431",
   "metadata": {},
   "outputs": [
    {
     "name": "stdout",
     "output_type": "stream",
     "text": [
      "Classification report:\n",
      "              precision    recall  f1-score   support\n",
      "\n",
      "           0     0.9098    0.8978    0.9037       685\n",
      "           1     0.4737    0.5081    0.4903       124\n",
      "\n",
      "    accuracy                         0.8381       809\n",
      "   macro avg     0.6917    0.7029    0.6970       809\n",
      "weighted avg     0.8429    0.8381    0.8404       809\n",
      "\n",
      "ROC AUC Score:\n",
      "\t 0.9034\n",
      "Average precision-recall score:\n",
      "\t 0.3161\n"
     ]
    }
   ],
   "source": [
    "print_results_model(y_valid, clf, X_valid)"
   ]
  },
  {
   "cell_type": "code",
   "execution_count": 96,
   "id": "ea9212eb-320c-4ace-9058-b1cbd752f5c6",
   "metadata": {},
   "outputs": [
    {
     "data": {
      "image/png": "[encoded data removed]",
      "text/plain": [
       "<Figure size 576x432 with 2 Axes>"
      ]
     },
     "metadata": {
      "needs_background": "light"
     },
     "output_type": "display_data"
    }
   ],
   "source": [
    "plot_confusion_matrix_model(y_valid, clf, X_valid)"
   ]
  },
  {
   "cell_type": "code",
   "execution_count": 97,
   "id": "325b16de-c1fa-4a07-9dfb-e404c113f5e5",
   "metadata": {},
   "outputs": [],
   "source": [
    "y_pred = clf.predict_proba(X_test)[:,1]"
   ]
  },
  {
   "cell_type": "code",
   "execution_count": 98,
   "id": "bc652113-728c-4668-bb15-60083601ad12",
   "metadata": {},
   "outputs": [],
   "source": [
    "np.save(\"data/input/y_pred_logistic_regression.npy\",y_pred)"
   ]
  },
  {
   "cell_type": "markdown",
   "id": "06f0e5b4-4d54-4741-a6ee-eef008606b46",
   "metadata": {
    "tags": []
   },
   "source": [
    "## Rule based baseline Model"
   ]
  },
  {
   "cell_type": "code",
   "execution_count": 99,
   "id": "ca0baa05-9a61-4b65-919b-888746613a08",
   "metadata": {
    "scrolled": true,
    "tags": []
   },
   "outputs": [],
   "source": [
    "from math import log\n"
   ]
  },
  {
   "cell_type": "code",
   "execution_count": 100,
   "id": "6bd926ac-ec09-4fc7-afba-d2515592c96c",
   "metadata": {},
   "outputs": [],
   "source": [
    "avg_valor_log  =  np.array(list(map(lambda x: log(x), X_valid['avg_valor_boleto'])))\n",
    "\n",
    "baseline = (avg_valor_log > 6).astype(int)\n",
    "# baseline"
   ]
  },
  {
   "cell_type": "code",
   "execution_count": 101,
   "id": "f22354d1-b550-4289-bb71-5bfc2e29fa59",
   "metadata": {},
   "outputs": [
    {
     "name": "stdout",
     "output_type": "stream",
     "text": [
      "Classification report:\n",
      "              precision    recall  f1-score   support\n",
      "\n",
      "           0     0.9915    0.6818    0.8080       685\n",
      "           1     0.3550    0.9677    0.5195       124\n",
      "\n",
      "    accuracy                         0.7256       809\n",
      "   macro avg     0.6733    0.8247    0.6637       809\n",
      "weighted avg     0.8940    0.7256    0.7637       809\n",
      "\n",
      "ROC AUC Score:\n",
      "\t 0.8247\n",
      "Average precision-recall score:\n",
      "\t 0.3485\n"
     ]
    }
   ],
   "source": [
    "print_results(y_valid, baseline)"
   ]
  },
  {
   "cell_type": "code",
   "execution_count": 102,
   "id": "e2bf5d4b-cfb7-4c22-b5ba-c771ca6c424f",
   "metadata": {},
   "outputs": [
    {
     "data": {
      "image/png": "[encoded data removed]",
      "text/plain": [
       "<Figure size 576x432 with 2 Axes>"
      ]
     },
     "metadata": {
      "needs_background": "light"
     },
     "output_type": "display_data"
    }
   ],
   "source": [
    "plot_confusion_matrix(y_valid, baseline)"
   ]
  },
  {
   "cell_type": "code",
   "execution_count": 103,
   "id": "9fbf8450-19f1-488f-b65c-cbbc77c66461",
   "metadata": {},
   "outputs": [],
   "source": [
    "avg_valor_log  =  np.array(list(map(lambda x: log(x), X_test['avg_valor_boleto'])))\n",
    "\n",
    "baseline = (avg_valor_log > 6).astype(int)"
   ]
  },
  {
   "cell_type": "code",
   "execution_count": 105,
   "id": "cbc58cde-84ce-48df-993b-9fcd5c6c6c20",
   "metadata": {},
   "outputs": [],
   "source": [
    "np.save(\"data/input/y_pred_rule.npy\",baseline)"
   ]
  },
  {
   "cell_type": "code",
   "execution_count": null,
   "id": "4d9b7475-3eab-4273-a191-4eb45727d48f",
   "metadata": {},
   "outputs": [],
   "source": []
  }
 ],
 "metadata": {
  "kernelspec": {
   "display_name": "Python 3 (ipykernel)",
   "language": "python",
   "name": "python3"
  },
  "language_info": {
   "codemirror_mode": {
    "name": "ipython",
    "version": 3
   },
   "file_extension": ".py",
   "mimetype": "text/x-python",
   "name": "python",
   "nbconvert_exporter": "python",
   "pygments_lexer": "ipython3",
   "version": "3.8.5"
  }
 },
 "nbformat": 4,
 "nbformat_minor": 5
}
